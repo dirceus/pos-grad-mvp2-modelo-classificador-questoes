{
  "cells": [
    {
      "cell_type": "markdown",
      "metadata": {
        "id": "MDnXLbAXQbBn"
      },
      "source": [
        "#### Pós Graduação de Engenharia de Software - PUC-Rio<br/>MVP da Disciplina/Sprint: Qualidade de Software, Segurança e Sistemas Inteligentes\n",
        "\n",
        "---\n",
        "<br/>\n",
        "\n",
        "\n",
        "# **Classificador de Enunciados de Questões de Vestibulares e Concursos**\n",
        "\n",
        "### Aluno: Dirceu Cardoso Lemos Sobrinho\n",
        "\n",
        "<br/>\n",
        "\n",
        "---\n",
        "\n",
        "### **Contextualização**\n",
        "\n",
        "Na sprint 1 da disciplina Desenvolvimento Full Stack Básico, o aluno Dirceu Sobrinho desenvolveu um MVP que consistia em uma API e uma aplicação web para manter e disponibilizar questões dos tipos múltipla escolha e verdadeiro ou falso. O objetivo era validar a hipótese de que uma API com uma base de questões de concursos e vestibulares seria útil para instituições de ensino na criação de exercícios, simulados e provas online.\n",
        "\n",
        "<br/>\n",
        "\n",
        "###    **Problema**\n",
        "\n",
        "Para manter uma base de questões completa e atualizada, é necessário realizar um cadastro de uma grande quantidade de questões. Esse é um esforço inviável para ser realizado manualmente. Para resolver esse problema, é a utlização de uma ferramente OCR em conjunto com um sistema inteligente que seja capaz de classificar as questões por disciplina e assunto.\n",
        "<br/>\n",
        "\n",
        "###    **Solução**\n",
        "\n",
        "Nesse MVP da disciplina Qualidade de Software, Segurança e Sistemas Inteligentes, estamos propondo um classificador que determina se uma questão é da disciplina Português, Matemática, Direito ou Informática a partir do enunciado das questões.\n",
        "<br/>\n",
        "\n",
        "###  **Próximos passos**\n",
        "\n",
        "Se a ferramenta se mostrar útil, poderemos evolui-la para que ela seja capaz de classificar outras disciplinas, além dos assuntos correlatos.\n",
        "\n",
        "<br/>\n",
        "\n",
        "###   **Dataset utilizado**\n",
        "\n",
        "O dataset foi construído pelo próprio aluno e consiste em um conjunto de enunciados de questões de vestibulares e concursos públicos das disciplinas Português, Matemática, Direito e Informática.\n",
        "\n",
        "<br/>\n",
        "\n",
        "\n",
        "---\n",
        "\n"
      ]
    },
    {
      "cell_type": "markdown",
      "source": [
        "### **1. Configuração:**\n",
        "\n",
        "No código abaixo realizaremos o imports necessários para criar, treinar e determinar o melhor modelo que realização da classificação das questões pelo seu enunciado."
      ],
      "metadata": {
        "id": "vnBXkIOZsvkf"
      }
    },
    {
      "cell_type": "code",
      "execution_count": 1,
      "metadata": {
        "colab": {
          "base_uri": "https://localhost:8080/"
        },
        "id": "LeUm9vsF0nmY",
        "outputId": "95ea225a-3d29-4762-dc04-9eb421a07d9f"
      },
      "outputs": [
        {
          "output_type": "stream",
          "name": "stderr",
          "text": [
            "[nltk_data] Downloading package punkt to /root/nltk_data...\n",
            "[nltk_data]   Unzipping tokenizers/punkt.zip.\n",
            "[nltk_data] Downloading package wordnet to /root/nltk_data...\n",
            "[nltk_data] Downloading package stopwords to /root/nltk_data...\n",
            "[nltk_data]   Unzipping corpora/stopwords.zip.\n"
          ]
        }
      ],
      "source": [
        "\n",
        "\n",
        "# configuração para não exibir os warnings\n",
        "import warnings\n",
        "warnings.filterwarnings(\"ignore\")\n",
        "\n",
        "# Imports necessários\n",
        "import pandas as pd\n",
        "import numpy as np\n",
        "import joblib\n",
        "import pickle\n",
        "#visualization\n",
        "import matplotlib.pyplot as plt\n",
        "# Machine Learning & Natural Language Processing\n",
        "import re\n",
        "import nltk\n",
        "from nltk.corpus import stopwords\n",
        "nltk.download('punkt')\n",
        "nltk.download('wordnet')\n",
        "nltk.download('stopwords')\n",
        "\n",
        "#Sklearn\n",
        "from sklearn.preprocessing import StandardScaler\n",
        "from sklearn.preprocessing import MinMaxScaler\n",
        "from sklearn.model_selection import train_test_split\n",
        "from sklearn.model_selection import KFold\n",
        "from sklearn.model_selection import StratifiedKFold\n",
        "from sklearn.model_selection import cross_val_score\n",
        "from sklearn.model_selection import GridSearchCV\n",
        "from sklearn.model_selection import cross_val_predict\n",
        "from sklearn.metrics import accuracy_score, classification_report, confusion_matrix\n",
        "from sklearn.pipeline import Pipeline\n",
        "from sklearn.tree import DecisionTreeClassifier\n",
        "from sklearn.neighbors import KNeighborsClassifier\n",
        "from sklearn.naive_bayes import GaussianNB\n",
        "from sklearn.feature_extraction.text import TfidfVectorizer\n",
        "from sklearn.ensemble import RandomForestClassifier\n",
        "from sklearn.decomposition import TruncatedSVD\n",
        "from sklearn.svm import SVC\n",
        "from sklearn.feature_extraction.text import CountVectorizer\n"
      ]
    },
    {
      "cell_type": "markdown",
      "source": [
        "\n",
        "\n",
        "---\n",
        "\n"
      ],
      "metadata": {
        "id": "96gXJRVAve6o"
      }
    },
    {
      "cell_type": "markdown",
      "metadata": {
        "id": "A5JdleHxMwdC"
      },
      "source": [
        "### **2. Classes utilizadas para carregamento e pré-Processamento do dataset, treinamento, avaliação e visualização dos modelos**\n"
      ]
    },
    {
      "cell_type": "code",
      "execution_count": 2,
      "metadata": {
        "id": "YHn8HbDg0i5P"
      },
      "outputs": [],
      "source": [
        "class Carregador:\n",
        "\n",
        "    def carregar_dados(self, url: str, atributos: list):\n",
        "        dataset = pd.read_csv(url, names=atributos)\n",
        "        return dataset\n",
        "\n",
        "\n",
        "class PreProcessador:\n",
        "\n",
        "    def pre_processar(self, x, y, percentual_teste = 0.2, seed=7):\n",
        "        # divisão em treino e teste\n",
        "        X_train, X_test, Y_train, Y_test = train_test_split(x, y, test_size=percentual_teste, random_state=seed)\n",
        "        return (X_train, X_test, Y_train, Y_test)\n",
        "\n",
        "\n",
        "class ProcessadorTexto:\n",
        "\n",
        "    def tratar_texto_linguagem_natural(self, texto_original):\n",
        "        texto_lowercase=texto_original.lower()\n",
        "        texto_sem_caracter_especial = re.sub(\"[^a-zA-Z \\\\\\]\",\" \",texto_lowercase)\n",
        "        return self.remover_stopwords(texto_sem_caracter_especial)\n",
        "\n",
        "\n",
        "    def remover_stopwords(self, texto):\n",
        "        stopwords = set(nltk.corpus.stopwords.words('portuguese'))\n",
        "        stopwords_contexto_app = [\"correto\",\"afirmativa\",\"questao\",\"afirmativas\",\"incorreto\",\"incorretas\",\"nao\",\"seguintes\",\"opcoes\", \"opcao\",\n",
        "                          \"assinale\",\"em\",\"um\",\"referese\",\"os\",\"as\",\"seu\",\"seus\",\"tem\",\"sao\",\"leia\",\"observe\",\"qual\",\"das\",\"de\",\"dos\",\n",
        "                          \"assinalar\", \"se\", \"no\", \"na\", \"do\",\"da\",\"para\", \"uma\", \"um\", \"verdadeiro\", \"falso\", \"ii\", \"iii\", \"iv\",\n",
        "                          \"preciso\", \"precisa\", \"atraves\", \"utilizam\", \"leia\", \"durante\", \"exemplo\", \"figura\", \"alternativas\", \"abaixo\",\n",
        "                          \"refere\", \"ao\", \"contexto\", \"muito\", \"importante\", \"pois\", \"seguinte\", \"dentro\", \"fora\", \"antes\", \"depois\",\n",
        "                          \"imagem\", \"oriundo\", \"oriundos\", \"aberto\", \"fechado\", \"abertos\", \"dispoe\", \"sobre\", \"sob\", \"abaixo\", \"acima\",\n",
        "                          \"como\", \"novo\", \"nova\", \"por\", \"quer\", \"queria\", \"pratica\", \"qual\", \"condicao\", \"condicoes\", \"suponha\",\n",
        "                          \"nesse\", \"nesses\", \"nessa\", \"nessas\", \"neste\",\"nestes\",\"nestas\",\"nesta\",\"essa\",\"esse\",\"essas\",\"esses\",\"pode\",\n",
        "                          \"podem\", \"por\", \"para\",\"possui\",\"possuem\",\"geral\",\"geralmente\",\"normal\",\"normalmente\",\"eventual\",\"eventualmente\",\n",
        "                          \"momento\", \"proximo\",\"longe\", \"cujo\", \"cujos\", \"cujas\", \"cuja\", \"que\", \"quem\", \"quais\", \"apresenta\",\"apresentou\",\n",
        "                          \"especial\", \"especiais\",\"mulher\",\"homem\",\"mulheres\",\"meninos\",\"meninas\", \"homens\",\"menino\", \"menina\", \"praticamente\",\n",
        "                          \"com\", \"contra\", \"mesmo\", \"mesma\", \"tendo\", \"cada\", \"ate\", \"bem\", \"mal\", \"bom\", \"entre\", \"significa\"]\n",
        "\n",
        "        palavras = nltk.word_tokenize(texto)\n",
        "\n",
        "        enunciado_sem_stopwords = [palavra for palavra in palavras if not palavra in stopwords_contexto_app]\n",
        "        enunciado_sem_stopwords = [palavra for palavra in enunciado_sem_stopwords if not palavra in stopwords]\n",
        "        return \" \".join(enunciado_sem_stopwords)\n",
        "\n",
        "\n",
        "class Modelo:\n",
        "\n",
        "    def treinar_SVM(self, X_train, Y_train):\n",
        "        # Cria e treina um modelo SVM\n",
        "        modelo = SVC()\n",
        "        modelo.fit(X_train, Y_train)\n",
        "        return modelo\n",
        "\n",
        "\n",
        "    def treinar_KNN(self, X_train, Y_train):\n",
        "        # Cria e treina um modelo KNN\n",
        "        modelo = KNeighborsClassifier()\n",
        "        modelo.fit(X_train, Y_train)\n",
        "        return modelo\n",
        "\n",
        "\n",
        "    def treinar_CART(self, X_train, Y_train):\n",
        "        # Cria e treina um modelo CART\n",
        "        modelo = DecisionTreeClassifier()\n",
        "        modelo.fit(X_train, Y_train)\n",
        "        return modelo\n",
        "\n",
        "\n",
        "    def treinar_NB(self, X_train, Y_train):\n",
        "        # Cria e treina um modelo SVM\n",
        "        modelo = GaussianNB()\n",
        "        modelo.fit(X_train, Y_train)\n",
        "        return modelo\n",
        "\n",
        "\n",
        "class Avaliador:\n",
        "\n",
        "    def avaliar_acuracia(self, modelo, X_test, Y_test):\n",
        "        resultado =  cross_val_score(modelo, X_test, Y_test, cv=StratifiedKFold(n_splits=10, shuffle=True, random_state=7), scoring='accuracy')\n",
        "        return resultado\n",
        "\n",
        "\n",
        "class Visualizador:\n",
        "\n",
        "    #Boxplot de comparação dos modelos\n",
        "    def comparacao_modelos(self, nomes, resultados):\n",
        "        fig = plt.figure(figsize=(15,10))\n",
        "        fig.suptitle('Comparação dos Modelos')\n",
        "        ax = fig.add_subplot(111)\n",
        "        plt.boxplot(resultados)\n",
        "        ax.set_xticklabels(nomes)\n",
        "        plt.show()\n",
        "\n",
        "class Exportador:\n",
        "\n",
        "    def exportar_joblib(self, modelo):\n",
        "          filename = 'modelo_finalizado.joblib'\n",
        "          joblib.dump(modelo, filename)\n",
        "\n",
        "    def exportar_pkl(self, modelo):\n",
        "          filename = 'modelo_finalizado.pkl'\n",
        "          pickle.dump(modelo, open(filename, 'wb'))\n",
        "\n",
        "\n",
        "\n"
      ]
    },
    {
      "cell_type": "markdown",
      "metadata": {
        "id": "Un6JR5Iq8sbt"
      },
      "source": [
        "## **Execução do Programa**\n"
      ]
    },
    {
      "cell_type": "markdown",
      "metadata": {
        "id": "abVD12cW9jAt"
      },
      "source": [
        "### Carregando o dataset"
      ]
    },
    {
      "cell_type": "code",
      "execution_count": 4,
      "metadata": {
        "colab": {
          "base_uri": "https://localhost:8080/"
        },
        "id": "hQxU7-iY8ye-",
        "outputId": "993837b1-b531-4e68-f56f-601601eecbd7"
      },
      "outputs": [
        {
          "output_type": "execute_result",
          "data": {
            "text/plain": [
              "MATEMATICA     225\n",
              "INFORMATICA    168\n",
              "PORTUGUES      142\n",
              "DIREITO        129\n",
              "Name: disciplina, dtype: int64"
            ]
          },
          "metadata": {},
          "execution_count": 4
        }
      ],
      "source": [
        "carregador = Carregador()\n",
        "url_dados = ('https://raw.githubusercontent.com/dirceus/pos-grad-mvp2-modelo-classificador-questoes/main/datasets/dataset_enunciados2.csv')\n",
        "atributos = ['enunciado','disciplina','id_disciplina']\n",
        "dataset = carregador.carregar_dados(url_dados,atributos)\n",
        "\n",
        "#imprime a quantidade de questões por disciplina do dataset\n",
        "dataset.disciplina.value_counts()\n"
      ]
    },
    {
      "cell_type": "markdown",
      "metadata": {
        "id": "H8GM-jAJ-U9b"
      },
      "source": [
        "###Pré-processamento"
      ]
    },
    {
      "cell_type": "code",
      "execution_count": 5,
      "metadata": {
        "colab": {
          "base_uri": "https://localhost:8080/"
        },
        "id": "Xzxm0D4p9Rw_",
        "outputId": "04f24849-47a8-4398-8752-4ffe33f323d3"
      },
      "outputs": [
        {
          "output_type": "stream",
          "name": "stdout",
          "text": [
            "Primeiras 50 palavras:  ['aaron' 'ab' 'aba' 'abandono' 'abastecer' 'abastecido' 'abastecimento'\n",
            " 'abc' 'aberta' 'abertas' 'abnt' 'abolida' 'abolir' 'aborda' 'abordado'\n",
            " 'abordam' 'abordar' 'abp' 'abr' 'abra' 'abrangem' 'abri' 'abrigar'\n",
            " 'abril' 'abrir' 'abriu' 'absoluta' 'absolutas' 'absoluto' 'absor'\n",
            " 'absten' 'abuso' 'ac' 'acabava' 'acabou' 'acad' 'acamado' 'acarreta'\n",
            " 'acaso' 'acb' 'aceit' 'aceitar' 'acerca' 'acerola' 'acertar' 'acervo'\n",
            " 'acess' 'acessado' 'acessados' 'acessam']\n"
          ]
        }
      ],
      "source": [
        "pre_processador = PreProcessador()\n",
        "processador_texto = ProcessadorTexto()\n",
        "\n",
        "lista_enunciados_tratados=[]\n",
        "for enunciado in dataset.enunciado:\n",
        "    enunciado_tratado = processador_texto.tratar_texto_linguagem_natural(enunciado)\n",
        "    lista_enunciados_tratados.append(enunciado_tratado)\n",
        "\n",
        "\n",
        "cou_vec=CountVectorizer(max_features=10000)\n",
        "sparce_matrix=cou_vec.fit_transform(lista_enunciados_tratados).toarray()\n",
        "all_words=cou_vec.get_feature_names_out()\n",
        "print(\"Primeiras 50 palavras: \",all_words[0:50])\n",
        "\n",
        "y = dataset.iloc[:,1].values\n",
        "x= sparce_matrix\n",
        "\n",
        "X_train, X_test, Y_train, Y_test = pre_processador.pre_processar(x, y)\n"
      ]
    },
    {
      "cell_type": "markdown",
      "metadata": {
        "id": "qsYTh5qqBXX5"
      },
      "source": [
        "### Treinar modelos nos algoritimos SVM, CART, KNN e Naives-Bayes"
      ]
    },
    {
      "cell_type": "code",
      "execution_count": 6,
      "metadata": {
        "id": "YgV2jOZUBd_c"
      },
      "outputs": [],
      "source": [
        "modelo = Modelo()\n",
        "\n",
        "# Treinando os modelos e adicionando-os na lista de modelos\n",
        "modelos = []\n",
        "modelos.append(('KNN', modelo.treinar_KNN(X_train, Y_train)))\n",
        "modelos.append(('CART', modelo.treinar_CART(X_train, Y_train)))\n",
        "modelos.append(('NB', modelo.treinar_NB(X_train, Y_train)))\n",
        "modelos.append(('SVM', modelo.treinar_SVM(X_train, Y_train)))"
      ]
    },
    {
      "cell_type": "markdown",
      "metadata": {
        "id": "VesZPGIF-NFj"
      },
      "source": [
        "### Avaliar algoritmos treinados"
      ]
    },
    {
      "cell_type": "code",
      "execution_count": 7,
      "metadata": {
        "colab": {
          "base_uri": "https://localhost:8080/"
        },
        "id": "El4Yd0ux-zp1",
        "outputId": "14a7dc99-8b0f-48f1-81cf-ecf7afdc5a0e"
      },
      "outputs": [
        {
          "output_type": "stream",
          "name": "stdout",
          "text": [
            "KNN: 0.547802 (0.108676)\n",
            "CART: 0.752198 (0.127739)\n",
            "NB: 0.850549 (0.055590)\n",
            "SVM: 0.669231 (0.136432)\n"
          ]
        }
      ],
      "source": [
        "avaliador = Avaliador()\n",
        "\n",
        "resultados = []\n",
        "nomes_algoritmos = []\n",
        "\n",
        "# Avaliação dos modelos\n",
        "for v_nome, v_modelo in modelos:\n",
        "    cv_results = avaliador.avaliar_acuracia(v_modelo, X_test, Y_test)\n",
        "    resultados.append(cv_results)\n",
        "    nomes_algoritmos.append(v_nome)\n",
        "    msg = \"%s: %f (%f)\" % (v_nome, cv_results.mean(), cv_results.std())\n",
        "    print(msg)\n",
        "\n"
      ]
    },
    {
      "cell_type": "markdown",
      "metadata": {
        "id": "my2QskL2N0cR"
      },
      "source": [
        "###Comparação de Modelos"
      ]
    },
    {
      "cell_type": "code",
      "execution_count": 8,
      "metadata": {
        "colab": {
          "base_uri": "https://localhost:8080/",
          "height": 930
        },
        "id": "ggQBS13zN-FV",
        "outputId": "bd4e38a1-1798-4d33-b184-47ec6cc213e7"
      },
      "outputs": [
        {
          "output_type": "display_data",
          "data": {
            "text/plain": [
              "<Figure size 1500x1000 with 1 Axes>"
            ],
            "image/png": "[encoded data removed]"
          },
          "metadata": {}
        }
      ],
      "source": [
        "visualizador = Visualizador()\n",
        "visualizador.comparacao_modelos(nomes_algoritmos, resultados)\n",
        "\n"
      ]
    },
    {
      "cell_type": "markdown",
      "metadata": {
        "id": "M5JA6yEQI2dA"
      },
      "source": [
        "###Criação e avaliação de modelos: dados padronizados e normalizados"
      ]
    },
    {
      "cell_type": "code",
      "execution_count": 9,
      "metadata": {
        "colab": {
          "base_uri": "https://localhost:8080/",
          "height": 1000
        },
        "id": "n-yPiITXEYei",
        "outputId": "fcb7918a-69c7-4550-8823-cfba4acc6f5e"
      },
      "outputs": [
        {
          "output_type": "stream",
          "name": "stdout",
          "text": [
            "KNN-orig: 0.516 (0.061)\n",
            "CART-orig: 0.815 (0.056)\n",
            "NB-orig: 0.910 (0.039)\n",
            "SVM-orig: 0.798 (0.048)\n",
            "KNN-padr: 0.258 (0.085)\n",
            "CART-padr: 0.836 (0.056)\n",
            "NB-padr: 0.848 (0.052)\n",
            "SVM-padr: 0.633 (0.036)\n",
            "KNN-norm: 0.516 (0.099)\n",
            "CART-norm: 0.813 (0.053)\n",
            "NB-norm: 0.889 (0.050)\n",
            "SVM-norm: 0.685 (0.027)\n"
          ]
        },
        {
          "output_type": "display_data",
          "data": {
            "text/plain": [
              "<Figure size 1500x1000 with 1 Axes>"
            ],
            "image/png": "[encoded data removed]"
          },
          "metadata": {}
        }
      ],
      "source": [
        "np.random.seed(7) # definindo uma semente global para este bloco\n",
        "\n",
        "# Listas para armazenar os armazenar os pipelines e os resultados para todas as visões do dataset\n",
        "pipelines = []\n",
        "results = []\n",
        "names = []\n",
        "\n",
        "\n",
        "# Criando os elementos do pipeline\n",
        "\n",
        "# Algoritmos que serão utilizados\n",
        "knn = ('KNN', KNeighborsClassifier())\n",
        "cart = ('CART', DecisionTreeClassifier())\n",
        "naive_bayes = ('NB', GaussianNB())\n",
        "svm = ('SVM', SVC())\n",
        "\n",
        "# Transformações que serão utilizadas\n",
        "standard_scaler = ('StandardScaler', StandardScaler())\n",
        "min_max_scaler = ('MinMaxScaler', MinMaxScaler())\n",
        "\n",
        "# Montando os pipelines\n",
        "\n",
        "# Dataset original\n",
        "pipelines.append(('KNN-orig', Pipeline([knn])))\n",
        "pipelines.append(('CART-orig', Pipeline([cart])))\n",
        "pipelines.append(('NB-orig', Pipeline([naive_bayes])))\n",
        "pipelines.append(('SVM-orig', Pipeline([svm])))\n",
        "\n",
        "# Dataset Padronizado\n",
        "pipelines.append(('KNN-padr', Pipeline([standard_scaler, knn])))\n",
        "pipelines.append(('CART-padr', Pipeline([standard_scaler, cart])))\n",
        "pipelines.append(('NB-padr', Pipeline([standard_scaler, naive_bayes])))\n",
        "pipelines.append(('SVM-padr', Pipeline([standard_scaler, svm])))\n",
        "\n",
        "# Dataset Normalizado\n",
        "pipelines.append(('KNN-norm', Pipeline([min_max_scaler, knn])))\n",
        "pipelines.append(('CART-norm', Pipeline([min_max_scaler, cart])))\n",
        "pipelines.append(('NB-norm', Pipeline([min_max_scaler, naive_bayes])))\n",
        "pipelines.append(('SVM-norm', Pipeline([min_max_scaler, svm])))\n",
        "\n",
        "# Executando os pipelines\n",
        "for name, model in pipelines:\n",
        "    cv_results = avaliador.avaliar_acuracia(model, X_train, Y_train)\n",
        "    results.append(cv_results)\n",
        "    names.append(name)\n",
        "    msg = \"%s: %.3f (%.3f)\" % (name, cv_results.mean(), cv_results.std()) # formatando para 3 casas decimais\n",
        "    print(msg)\n",
        "\n",
        "# Boxplot de comparação dos modelos\n",
        "visualizador.comparacao_modelos(names, results)"
      ]
    },
    {
      "cell_type": "markdown",
      "metadata": {
        "id": "cg6pG0q7Jniv"
      },
      "source": [
        "###Otimização dos hiperparâmetros"
      ]
    },
    {
      "cell_type": "code",
      "execution_count": 10,
      "metadata": {
        "colab": {
          "base_uri": "https://localhost:8080/"
        },
        "id": "PrdOPvMSJpa_",
        "outputId": "d1711aae-3f92-4910-8296-effe58b11d96"
      },
      "outputs": [
        {
          "output_type": "stream",
          "name": "stdout",
          "text": [
            "Sem tratamento de missings: nb-orig - Melhor: 0.909713 usando {'nb__priors': None, 'nb__var_smoothing': 1e-08}\n",
            "Sem tratamento de missings: nb-padr - Melhor: 0.847519 usando {'nb__priors': None, 'nb__var_smoothing': 1e-08}\n",
            "Sem tratamento de missings: nb-norm - Melhor: 0.889064 usando {'nb__priors': None, 'nb__var_smoothing': 1e-08}\n"
          ]
        }
      ],
      "source": [
        "# Tuning\n",
        "np.random.seed(7) # definindo uma semente global para este bloco\n",
        "pipelines = []\n",
        "\n",
        "# Definindo os componentes do pipeline\n",
        "nb = ('nb', GaussianNB())\n",
        "standard_scaler = ('StandardScaler', StandardScaler())\n",
        "min_max_scaler = ('MinMaxScaler', MinMaxScaler())\n",
        "\n",
        "pipelines.append(('nb-orig', Pipeline(steps=[nb])))\n",
        "pipelines.append(('nb-padr', Pipeline(steps=[standard_scaler, nb])))\n",
        "pipelines.append(('nb-norm', Pipeline(steps=[min_max_scaler, nb])))\n",
        "\n",
        "nb_param_grid = {'nb__priors': [None], 'nb__var_smoothing': [0.00000001, 0.000000001, 0.00000001]}\n",
        "param_grid = nb_param_grid\n",
        "\n",
        "\n",
        "# Prepara e executa o GridSearchCV\n",
        "for name, model in pipelines:\n",
        "    grid = GridSearchCV(estimator=model, param_grid=param_grid, cv=StratifiedKFold(n_splits=10, shuffle=True, random_state=7), scoring='accuracy')\n",
        "    grid.fit(X_train, Y_train)\n",
        "    # imprime a melhor configuração\n",
        "    print(\"Sem tratamento de missings: %s - Melhor: %f usando %s\" % (name, grid.best_score_, grid.best_params_))"
      ]
    },
    {
      "cell_type": "markdown",
      "metadata": {
        "id": "Y0Gd7zVoOU1g"
      },
      "source": [
        "### Finalização do Modelo"
      ]
    },
    {
      "cell_type": "code",
      "execution_count": 11,
      "metadata": {
        "id": "2VBTuzaELnCN",
        "colab": {
          "base_uri": "https://localhost:8080/"
        },
        "outputId": "a5d84cfc-99df-4490-bfaa-696f3d4b1a99"
      },
      "outputs": [
        {
          "output_type": "stream",
          "name": "stdout",
          "text": [
            "0.7969924812030075\n"
          ]
        }
      ],
      "source": [
        "# Avaliação do modelo com o conjunto de testes\n",
        "\n",
        "# Preparação do modelo\n",
        "scaler = StandardScaler().fit(X_train) # ajuste do scaler com o conjunto de treino\n",
        "rescaledX = scaler.transform(X_train) # aplicação da padronização no conjunto de treino\n",
        "#modeloFinal = SVC(C=10, gamma=0.001, kernel='rbf')\n",
        "modeloFinal = GaussianNB(priors=None, var_smoothing=1e-08)\n",
        "modeloFinal.fit(rescaledX, Y_train)\n",
        "# Estimativa da acurácia no conjunto de teste\n",
        "rescaledTestX = scaler.transform(X_test) # aplicação da padronização no conjunto de teste\n",
        "predictions = modeloFinal.predict(rescaledTestX)\n",
        "print(accuracy_score(Y_test, predictions))"
      ]
    },
    {
      "cell_type": "code",
      "execution_count": 12,
      "metadata": {
        "colab": {
          "base_uri": "https://localhost:8080/",
          "height": 126
        },
        "id": "ZLg3WORiQdQ7",
        "outputId": "e451a829-5b38-483e-d1a9-f21100eedfec"
      },
      "outputs": [
        {
          "output_type": "execute_result",
          "data": {
            "text/plain": [
              "Pipeline(steps=[('MinMaxScaler', MinMaxScaler()), ('nb', GaussianNB())])"
            ],
            "text/html": [
              "<style>#sk-container-id-1 {color: black;background-color: white;}#sk-container-id-1 pre{padding: 0;}#sk-container-id-1 div.sk-toggleable {background-color: white;}#sk-container-id-1 label.sk-toggleable__label {cursor: pointer;display: block;width: 100%;margin-bottom: 0;padding: 0.3em;box-sizing: border-box;text-align: center;}#sk-container-id-1 label.sk-toggleable__label-arrow:before {content: \"▸\";float: left;margin-right: 0.25em;color: #696969;}#sk-container-id-1 label.sk-toggleable__label-arrow:hover:before {color: black;}#sk-container-id-1 div.sk-estimator:hover label.sk-toggleable__label-arrow:before {color: black;}#sk-container-id-1 div.sk-toggleable__content {max-height: 0;max-width: 0;overflow: hidden;text-align: left;background-color: #f0f8ff;}#sk-container-id-1 div.sk-toggleable__content pre {margin: 0.2em;color: black;border-radius: 0.25em;background-color: #f0f8ff;}#sk-container-id-1 input.sk-toggleable__control:checked~div.sk-toggleable__content {max-height: 200px;max-width: 100%;overflow: auto;}#sk-container-id-1 input.sk-toggleable__control:checked~label.sk-toggleable__label-arrow:before {content: \"▾\";}#sk-container-id-1 div.sk-estimator input.sk-toggleable__control:checked~label.sk-toggleable__label {background-color: #d4ebff;}#sk-container-id-1 div.sk-label input.sk-toggleable__control:checked~label.sk-toggleable__label {background-color: #d4ebff;}#sk-container-id-1 input.sk-hidden--visually {border: 0;clip: rect(1px 1px 1px 1px);clip: rect(1px, 1px, 1px, 1px);height: 1px;margin: -1px;overflow: hidden;padding: 0;position: absolute;width: 1px;}#sk-container-id-1 div.sk-estimator {font-family: monospace;background-color: #f0f8ff;border: 1px dotted black;border-radius: 0.25em;box-sizing: border-box;margin-bottom: 0.5em;}#sk-container-id-1 div.sk-estimator:hover {background-color: #d4ebff;}#sk-container-id-1 div.sk-parallel-item::after {content: \"\";width: 100%;border-bottom: 1px solid gray;flex-grow: 1;}#sk-container-id-1 div.sk-label:hover label.sk-toggleable__label {background-color: #d4ebff;}#sk-container-id-1 div.sk-serial::before {content: \"\";position: absolute;border-left: 1px solid gray;box-sizing: border-box;top: 0;bottom: 0;left: 50%;z-index: 0;}#sk-container-id-1 div.sk-serial {display: flex;flex-direction: column;align-items: center;background-color: white;padding-right: 0.2em;padding-left: 0.2em;position: relative;}#sk-container-id-1 div.sk-item {position: relative;z-index: 1;}#sk-container-id-1 div.sk-parallel {display: flex;align-items: stretch;justify-content: center;background-color: white;position: relative;}#sk-container-id-1 div.sk-item::before, #sk-container-id-1 div.sk-parallel-item::before {content: \"\";position: absolute;border-left: 1px solid gray;box-sizing: border-box;top: 0;bottom: 0;left: 50%;z-index: -1;}#sk-container-id-1 div.sk-parallel-item {display: flex;flex-direction: column;z-index: 1;position: relative;background-color: white;}#sk-container-id-1 div.sk-parallel-item:first-child::after {align-self: flex-end;width: 50%;}#sk-container-id-1 div.sk-parallel-item:last-child::after {align-self: flex-start;width: 50%;}#sk-container-id-1 div.sk-parallel-item:only-child::after {width: 0;}#sk-container-id-1 div.sk-dashed-wrapped {border: 1px dashed gray;margin: 0 0.4em 0.5em 0.4em;box-sizing: border-box;padding-bottom: 0.4em;background-color: white;}#sk-container-id-1 div.sk-label label {font-family: monospace;font-weight: bold;display: inline-block;line-height: 1.2em;}#sk-container-id-1 div.sk-label-container {text-align: center;}#sk-container-id-1 div.sk-container {/* jupyter's `normalize.less` sets `[hidden] { display: none; }` but bootstrap.min.css set `[hidden] { display: none !important; }` so we also need the `!important` here to be able to override the default hidden behavior on the sphinx rendered scikit-learn.org. See: https://github.com/scikit-learn/scikit-learn/issues/21755 */display: inline-block !important;position: relative;}#sk-container-id-1 div.sk-text-repr-fallback {display: none;}</style><div id=\"sk-container-id-1\" class=\"sk-top-container\"><div class=\"sk-text-repr-fallback\"><pre>Pipeline(steps=[(&#x27;MinMaxScaler&#x27;, MinMaxScaler()), (&#x27;nb&#x27;, GaussianNB())])</pre><b>In a Jupyter environment, please rerun this cell to show the HTML representation or trust the notebook. <br />On GitHub, the HTML representation is unable to render, please try loading this page with nbviewer.org.</b></div><div class=\"sk-container\" hidden><div class=\"sk-item sk-dashed-wrapped\"><div class=\"sk-label-container\"><div class=\"sk-label sk-toggleable\"><input class=\"sk-toggleable__control sk-hidden--visually\" id=\"sk-estimator-id-1\" type=\"checkbox\" ><label for=\"sk-estimator-id-1\" class=\"sk-toggleable__label sk-toggleable__label-arrow\">Pipeline</label><div class=\"sk-toggleable__content\"><pre>Pipeline(steps=[(&#x27;MinMaxScaler&#x27;, MinMaxScaler()), (&#x27;nb&#x27;, GaussianNB())])</pre></div></div></div><div class=\"sk-serial\"><div class=\"sk-item\"><div class=\"sk-estimator sk-toggleable\"><input class=\"sk-toggleable__control sk-hidden--visually\" id=\"sk-estimator-id-2\" type=\"checkbox\" ><label for=\"sk-estimator-id-2\" class=\"sk-toggleable__label sk-toggleable__label-arrow\">MinMaxScaler</label><div class=\"sk-toggleable__content\"><pre>MinMaxScaler()</pre></div></div></div><div class=\"sk-item\"><div class=\"sk-estimator sk-toggleable\"><input class=\"sk-toggleable__control sk-hidden--visually\" id=\"sk-estimator-id-3\" type=\"checkbox\" ><label for=\"sk-estimator-id-3\" class=\"sk-toggleable__label sk-toggleable__label-arrow\">GaussianNB</label><div class=\"sk-toggleable__content\"><pre>GaussianNB()</pre></div></div></div></div></div></div></div>"
            ]
          },
          "metadata": {},
          "execution_count": 12
        }
      ],
      "source": [
        "# Preparação do modelo com TODO o dataset\n",
        "scaler = StandardScaler().fit(x) # ajuste do scaler com TODO o dataset\n",
        "rescaledX = scaler.transform(x) # aplicação da padronização com TODO o dataset\n",
        "model.fit(rescaledX, y)"
      ]
    },
    {
      "cell_type": "markdown",
      "metadata": {
        "id": "xZ-FQWZj_OtQ"
      },
      "source": [
        "## Simulando a aplicação do modelo em dados não vistos"
      ]
    },
    {
      "cell_type": "code",
      "execution_count": 13,
      "metadata": {
        "colab": {
          "base_uri": "https://localhost:8080/"
        },
        "id": "nmRDcjSCRZKu",
        "outputId": "4ba6d12e-d63c-4e58-ca11-196f7ec3d287"
      },
      "outputs": [
        {
          "output_type": "stream",
          "name": "stdout",
          "text": [
            "[[-0.03883678 -0.03883678 -0.06244278 ... -0.06736897 -0.10427988\n",
            "  -0.03883678]\n",
            " [-0.03883678 -0.03883678 -0.06244278 ... -0.06736897 -0.10427988\n",
            "  -0.03883678]\n",
            " [-0.03883678 -0.03883678 -0.06244278 ... -0.06736897 -0.10427988\n",
            "  -0.03883678]\n",
            " ...\n",
            " [-0.03883678 -0.03883678 -0.06244278 ... -0.06736897 -0.10427988\n",
            "  -0.03883678]\n",
            " [-0.03883678 -0.03883678 -0.06244278 ... -0.06736897 -0.10427988\n",
            "  -0.03883678]\n",
            " [-0.03883678 -0.03883678 -0.06244278 ... -0.06736897 -0.10427988\n",
            "  -0.03883678]]\n"
          ]
        }
      ],
      "source": [
        "#Novos dados - não sabemos a disciplina!\n",
        "\n",
        "novo_dados = [\n",
        "  #INFORMATICA\n",
        "  processador_texto.tratar_texto_linguagem_natural(\"Acerca dos conceitos, das formas de uso e das ferramentas do ambiente Windows, julgue o item que se segue. O Explorador de Arquivos é a ferramenta do Windows utilizada para a navegação em arquivos da Internet.\"),\n",
        "  processador_texto.tratar_texto_linguagem_natural(\"Você está acessando uma máquina Linux e necessita saber qual lista dos módulos do Kernel foram carregados. Para tanto, você fez login com o root e deverá aplicar o comando:\"),\n",
        "  #PORTUGUES\n",
        "  processador_texto.tratar_texto_linguagem_natural(\"É comum coexistirem sequências tipológicas em um mesmo gênero textual. Nesse fragmento, os tipos textuais que se destacam na organização temática são\"),\n",
        "  processador_texto.tratar_texto_linguagem_natural(\"As expressões em destaque, sintaticamente, podem ser classificadas como:\"),\n",
        "  #MATEMATICA\n",
        "  processador_texto.tratar_texto_linguagem_natural(\"O gráfico apresenta a evolução do crescimento de uma determinada árvore, plantada a partir de uma muda com 1 metro de altura. Nessa evolução, a altura da árvore, em metro, é descrita em função do tempo, medido em ano. Imagem associada para resolução da questão No período de 1 ano, contado a partir do instante em que a árvore tinha dois anos e meio de plantio, a variação da altura dessa árvore, em metro, teve valor compreendido entre\"),\n",
        "  processador_texto.tratar_texto_linguagem_natural(\"Sobre um grupo de atletas sabe-se que 15 praticam natação, atletismo e ciclismo, 20 praticam somente natação e atletismo, 27 praticam somente natação e ciclismo, e 25 praticam somente atletismo e ciclismo. Se 70 atletas desse grupo praticam natação, 61 praticam atletismo, e 75 praticam ciclismo, então é verdade que, das alternativas a seguir, a que contém a porcentagem que mais se aproxima da relação entre o número de atletas que praticam um único esporte o número total de atletas desse grupo é\"),\n",
        "  #DIREITO\n",
        "  processador_texto.tratar_texto_linguagem_natural(\"Conforme preconizado pelos princípios constitucionais, a atuação dos servidores públicos deve ser pautada pela conduta moral e ética, sendo vedado qualquer tipo de discriminação por sexo, raça, cor, idade ou qualquer outra forma discriminatória. O atendimento ao cidadão deve ser realizado de forma humanizada. A ação do servidor público deve ocorrer de forma igualitária, com dignidade e respeito. Assinale a alternativa que relaciona corretamente dois dos princípios constitucionais que embasam as afirmações anteriores.\"),\n",
        "  processador_texto.tratar_texto_linguagem_natural(\"A Constituição Federal prevê como funções essenciais à administração da Justiça o Ministério Público, a Advocacia pública e privada, estabelecendo que\"),\n",
        "]\n",
        "\n",
        "cou_vec_test  = CountVectorizer(vocabulary=all_words)\n",
        "X_novos_dados = cou_vec_test.fit_transform(novo_dados)\n",
        "\n",
        "entrada = pd.DataFrame(X_novos_dados.toarray(), columns=all_words)\n",
        "\n",
        "array_entrada = entrada.values\n",
        "X_entrada = array_entrada[:,0:10000].astype(float)\n",
        "\n",
        "# Padronização nos dados de entrada usando o scaler utilizado em X\n",
        "rescaledEntradaX = scaler.transform(X_entrada)\n",
        "print(rescaledEntradaX)\n"
      ]
    },
    {
      "cell_type": "code",
      "execution_count": 17,
      "metadata": {
        "colab": {
          "base_uri": "https://localhost:8080/"
        },
        "id": "3-TS_FCL0HAp",
        "outputId": "006d67c7-8486-404b-d9e8-d79f6d9a79ba"
      },
      "outputs": [
        {
          "output_type": "stream",
          "name": "stdout",
          "text": [
            "Resultado:\n",
            "Resultado: INFORMATICA - Esperado: INFORMATICA\n",
            "Resultado: INFORMATICA - Esperado: INFORMATICA\n",
            "Resultado: PORTUGUES - Esperado: PORTUGUES\n",
            "Resultado: PORTUGUES - Esperado: PORTUGUES\n",
            "Resultado: MATEMATICA - Esperado: MATEMATICA\n",
            "Resultado: MATEMATICA - Esperado: MATEMATICA\n",
            "Resultado: DIREITO - Esperado: DIREITO\n",
            "Resultado: DIREITO - Esperado: DIREITO\n"
          ]
        }
      ],
      "source": [
        "saidas = model.predict(rescaledEntradaX)\n",
        "esperados = [\"INFORMATICA\", \"INFORMATICA\", \"PORTUGUES\", \"PORTUGUES\", \"MATEMATICA\", \"MATEMATICA\", \"DIREITO\", \"DIREITO\"]\n",
        "print(\"Resultado:\")\n",
        "\n",
        "contador = 0\n",
        "for saida in saidas:\n",
        "    print(\"Resultado: \"+saida + \" - Esperado: \" + esperados[contador])\n",
        "    contador += 1\n"
      ]
    },
    {
      "cell_type": "markdown",
      "source": [
        "### Exportação do modelo"
      ],
      "metadata": {
        "id": "ONE_BY-y1M1V"
      }
    },
    {
      "cell_type": "code",
      "source": [
        "exportador = Exportador()\n",
        "exportador.exportar_joblib(model)\n",
        "exportador.exportar_pkl(model)\n",
        "\n",
        "#salvar palavras em arquivo\n",
        "with open(\"allwords.txt\", \"w\") as txt_file:\n",
        "    for line in all_words:\n",
        "        txt_file.write(\"\".join(line) + \"\\n\")\n",
        "txt_file.close()\n"
      ],
      "metadata": {
        "id": "qtVQ0LG-1K6B"
      },
      "execution_count": 18,
      "outputs": []
    },
    {
      "cell_type": "markdown",
      "source": [
        "## **Conclusão**\n",
        "\n",
        "O modelo a partir do algoritmo de Naives Bayes apresentou a melhor acurácia, e portanto utilizaremos ele na API de cadastro de questões."
      ],
      "metadata": {
        "id": "GyLihyQz6Rrg"
      }
    }
  ],
  "metadata": {
    "colab": {
      "provenance": []
    },
    "kernelspec": {
      "display_name": "Python 3",
      "name": "python3"
    }
  },
  "nbformat": 4,
  "nbformat_minor": 0
}