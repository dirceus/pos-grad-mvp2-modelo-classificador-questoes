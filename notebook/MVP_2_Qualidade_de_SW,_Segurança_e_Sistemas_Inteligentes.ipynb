{
  "cells": [
    {
      "cell_type": "markdown",
      "metadata": {
        "id": "view-in-github"
      },
      "source": []
    },
    {
      "cell_type": "markdown",
      "metadata": {
        "id": "MDnXLbAXQbBn"
      },
      "source": [
        "#### Pós Graduação de Engenharia de Software - PUC-Rio<br/>MVP da Disciplina/Sprint: Qualidade de Software, Segurança e Sistemas Inteligentes\n",
        "\n",
        "---\n",
        "\n",
        "\n",
        "# **Classificador de Enunciados de Questões de Vestibulares e Concursos**\n",
        "\n",
        "### Aluno: Dirceu Cardoso Lemos Sobrinho\n",
        "\n",
        "---\n",
        "\n",
        "## Contextualização:\n",
        "No MVP da disciplina Desenvolvimento Full Stack Básico foi desenvolvido uma API para manter questões de vestibulares e concursos, além de uma interface web para consulta e cadastro de questões, no entanto, uma das principais dificuldades ao cadastrar uma questão é classificá-la corretamente, visto que requer um conhecimento amplo do cadastrador de disciplinas e assuntos várias. Portanto nesse MVP testaremos a viabilidade de utilizar Machine Learning para classificar as questões.\n",
        "\n",
        "### Dataset\n",
        "\n",
        "O dataset foi construído a partir de pesquisa de questões do Enem das disciplinas de Português, Matemática, Biologia e de questões de concursos publicos de Direito e Informática.\n",
        "\n",
        "\n",
        "---\n",
        "\n",
        "1. Configuraçao:\n"
      ]
    },
    {
      "cell_type": "code",
      "execution_count": 337,
      "metadata": {
        "colab": {
          "base_uri": "https://localhost:8080/"
        },
        "id": "LeUm9vsF0nmY",
        "outputId": "2c7d3222-57e4-4e6a-d88d-85091de83f6c"
      },
      "outputs": [
        {
          "output_type": "stream",
          "name": "stderr",
          "text": [
            "[nltk_data] Downloading package punkt to /root/nltk_data...\n",
            "[nltk_data]   Package punkt is already up-to-date!\n",
            "[nltk_data] Downloading package wordnet to /root/nltk_data...\n",
            "[nltk_data]   Package wordnet is already up-to-date!\n",
            "[nltk_data] Downloading package stopwords to /root/nltk_data...\n",
            "[nltk_data]   Package stopwords is already up-to-date!\n"
          ]
        }
      ],
      "source": [
        "\n",
        "\n",
        "# configuração para não exibir os warnings\n",
        "import warnings\n",
        "warnings.filterwarnings(\"ignore\")\n",
        "\n",
        "# Imports necessários\n",
        "import pandas as pd\n",
        "import numpy as np\n",
        "#visualization\n",
        "import matplotlib.pyplot as plt\n",
        "from wordcloud import WordCloud\n",
        "import seaborn as sns\n",
        "# Machine Learning & Natural Language Processing\n",
        "import re\n",
        " ## Natural Language Tool Kit\n",
        "import nltk\n",
        "from nltk.corpus import stopwords\n",
        "nltk.download('punkt')\n",
        "nltk.download('wordnet')\n",
        "nltk.download('stopwords')\n",
        "\n",
        "from sklearn.preprocessing import StandardScaler\n",
        "from sklearn.preprocessing import MinMaxScaler\n",
        "from sklearn.model_selection import train_test_split\n",
        "from sklearn.model_selection import KFold\n",
        "from sklearn.model_selection import StratifiedKFold\n",
        "from sklearn.model_selection import cross_val_score\n",
        "from sklearn.model_selection import GridSearchCV\n",
        "from sklearn.model_selection import cross_val_predict\n",
        "from sklearn.metrics import accuracy_score, classification_report, confusion_matrix\n",
        "from sklearn.pipeline import Pipeline\n",
        "from sklearn.tree import DecisionTreeClassifier\n",
        "from sklearn.neighbors import KNeighborsClassifier\n",
        "from sklearn.naive_bayes import GaussianNB\n",
        "from sklearn.feature_extraction.text import TfidfVectorizer\n",
        "from sklearn.ensemble import RandomForestClassifier\n",
        "from sklearn.decomposition import TruncatedSVD\n",
        "from sklearn.svm import SVC\n",
        "from sklearn.feature_extraction.text import CountVectorizer\n"
      ]
    },
    {
      "cell_type": "markdown",
      "metadata": {
        "id": "A5JdleHxMwdC"
      },
      "source": [
        "## Classes"
      ]
    },
    {
      "cell_type": "code",
      "execution_count": 338,
      "metadata": {
        "id": "YHn8HbDg0i5P"
      },
      "outputs": [],
      "source": [
        "class Carregador:\n",
        "\n",
        "    def carregar_dados(self, url: str, atributos: list):\n",
        "        dataset = pd.read_csv(url, names=atributos)\n",
        "        return dataset\n",
        "\n",
        "\n",
        "class PreProcessador:\n",
        "\n",
        "    def pre_processar(self, x, y, percentual_teste = 0.2, seed=7):\n",
        "        # divisão em treino e teste\n",
        "        X_train, X_test, Y_train, Y_test = train_test_split(x, y, test_size=percentual_teste, random_state=seed)\n",
        "        return (X_train, X_test, Y_train, Y_test)\n",
        "\n",
        "\n",
        "    def tratar_texto_linguagem_natural(self, texto_original):\n",
        "        texto_lowercase=texto_original.lower()\n",
        "        texto_sem_caracter_especial = re.sub(\"[^a-zA-Z \\\\\\]\",\" \",texto_lowercase)\n",
        "        palavras = nltk.word_tokenize(texto_sem_caracter_especial)\n",
        "\n",
        "        stop_words = [\"correto\",\"afirmativa\",\"questao\",\"afirmativas\",\"incorreto\",\"incorretas\",\"nao\",\"seguintes\",\"opcoes\", \"opcao\",\n",
        "                          \"assinale\",\"em\",\"um\",\"referese\",\"os\",\"as\",\"seu\",\"seus\",\"tem\",\"sao\",\"leia\",\"observe\",\"qual\",\"das\",\"de\",\"dos\",\n",
        "                          \"assinalar\", \"se\", \"no\", \"na\", \"do\",\"da\",\"para\", \"uma\", \"um\", \"verdadeiro\", \"falso\", \"ii\", \"iii\", \"iv\",\n",
        "                          \"preciso\", \"precisa\", \"atraves\", \"utilizam\", \"leia\", \"durante\", \"exemplo\", \"figura\", \"alternativas\", \"abaixo\",\n",
        "                          \"refere\", \"ao\", \"contexto\", \"muito\", \"importante\", \"pois\", \"seguinte\", \"dentro\", \"fora\", \"antes\", \"depois\",\n",
        "                          \"imagem\", \"oriundo\", \"oriundos\", \"aberto\", \"fechado\", \"abertos\", \"dispoe\", \"sobre\", \"sob\", \"abaixo\", \"acima\",\n",
        "                          \"como\", \"novo\", \"nova\", \"por\", \"quer\", \"queria\", \"pratica\", \"qual\", \"condicao\", \"condicoes\", \"suponha\",\n",
        "                          \"nesse\", \"nesses\", \"nessa\", \"nessas\", \"neste\",\"nestes\",\"nestas\",\"nesta\",\"essa\",\"esse\",\"essas\",\"esses\",\"pode\",\n",
        "                          \"podem\", \"por\", \"para\",\"possui\",\"possuem\",\"geral\",\"geralmente\",\"normal\",\"normalmente\",\"eventual\",\"eventualmente\",\n",
        "                          \"momento\", \"proximo\",\"longe\", \"cujo\", \"cujos\", \"cujas\", \"cuja\", \"que\", \"quem\", \"quais\", \"apresenta\",\"apresentou\",\n",
        "                          \"especial\", \"especiais\",\"mulher\",\"homem\",\"mulheres\",\"meninos\",\"meninas\", \"homens\",\"menino\", \"menina\", \"praticamente\",\n",
        "                          \"com\", \"contra\", \"mesmo\", \"mesma\", \"tendo\", \"cada\", \"ate\", \"bem\", \"mal\", \"bom\", \"entre\", \"significa\"]\n",
        "\n",
        "        enunciado_sem_stopwords = [palavra for palavra in palavras if not palavra in stop_words]\n",
        "        return \" \".join(enunciado_sem_stopwords)\n",
        "\n",
        "\n",
        "class Modelo:\n",
        "\n",
        "    def treinar_SVM(self, X_train, Y_train):\n",
        "        # Cria e treina um modelo SVM\n",
        "        modelo = SVC()\n",
        "        modelo.fit(X_train, Y_train)\n",
        "        return modelo\n",
        "\n",
        "\n",
        "    def treinar_KNN(self, X_train, Y_train):\n",
        "        # Cria e treina um modelo KNN\n",
        "        modelo = KNeighborsClassifier()\n",
        "        modelo.fit(X_train, Y_train)\n",
        "        return modelo\n",
        "\n",
        "\n",
        "    def treinar_CART(self, X_train, Y_train):\n",
        "        # Cria e treina um modelo CART\n",
        "        modelo = DecisionTreeClassifier()\n",
        "        modelo.fit(X_train, Y_train)\n",
        "        return modelo\n",
        "\n",
        "\n",
        "    def treinar_NB(self, X_train, Y_train):\n",
        "        # Cria e treina um modelo SVM\n",
        "        modelo = GaussianNB()\n",
        "        modelo.fit(X_train, Y_train)\n",
        "        return modelo\n",
        "\n",
        "\n",
        "class Avaliador:\n",
        "\n",
        "    def avaliar_acuracia(self, modelo, X_test, Y_test):\n",
        "        resultado =  cross_val_score(modelo, X_test, Y_test, cv=StratifiedKFold(n_splits=10, shuffle=True, random_state=7), scoring='accuracy')\n",
        "        return resultado\n",
        "\n",
        "\n",
        "class Visualizador:\n",
        "\n",
        "    #Boxplot de comparação dos modelos\n",
        "    def comparacao_modelos(self, nomes, resultados):\n",
        "        fig = plt.figure(figsize=(15,10))\n",
        "        fig.suptitle('Comparação dos Modelos')\n",
        "        ax = fig.add_subplot(111)\n",
        "        plt.boxplot(resultados)\n",
        "        ax.set_xticklabels(nomes)\n",
        "        plt.show()\n",
        "\n"
      ]
    },
    {
      "cell_type": "markdown",
      "metadata": {
        "id": "vg-i_HNA9fqs"
      },
      "source": []
    },
    {
      "cell_type": "markdown",
      "metadata": {
        "id": "Un6JR5Iq8sbt"
      },
      "source": [
        "## Execução do Programa\n"
      ]
    },
    {
      "cell_type": "markdown",
      "metadata": {
        "id": "abVD12cW9jAt"
      },
      "source": [
        "###Carregando o dataset"
      ]
    },
    {
      "cell_type": "code",
      "execution_count": 340,
      "metadata": {
        "colab": {
          "base_uri": "https://localhost:8080/"
        },
        "id": "hQxU7-iY8ye-",
        "outputId": "a6b29b59-e3ff-46a6-ed69-e113a2174e92"
      },
      "outputs": [
        {
          "output_type": "execute_result",
          "data": {
            "text/plain": [
              "MATEMATICA                                                225\n",
              "PORTUGUES                                                 156\n",
              "INFORMATICA                                               145\n",
              "BIOLOGIA                                                  121\n",
              "DIREITO                                                    70\n",
              "disciplina                                                  1\n",
              " 2. Transdução com vetor carregando o gene terapêutico      1\n",
              "Name: disciplina, dtype: int64"
            ]
          },
          "metadata": {},
          "execution_count": 340
        }
      ],
      "source": [
        "carregador = Carregador()\n",
        "url_dados = ('https://raw.githubusercontent.com/dirceus/pos-grad-mvp2-modelo-classificador-questoes/main/datasets/dataset_questoes.csv')\n",
        "atributos = ['enunciado','disciplina','id_disciplina']\n",
        "dataset = carregador.carregar_dados(url_dados,atributos)\n",
        "\n",
        "#imprime a quantidade de questões por disciplina do dataset\n",
        "dataset.disciplina.value_counts()\n"
      ]
    },
    {
      "cell_type": "markdown",
      "metadata": {
        "id": "H8GM-jAJ-U9b"
      },
      "source": [
        "###Pré-processamento"
      ]
    },
    {
      "cell_type": "code",
      "execution_count": null,
      "metadata": {
        "colab": {
          "base_uri": "https://localhost:8080/"
        },
        "id": "Xzxm0D4p9Rw_",
        "outputId": "3523945c-bd1a-43bb-9691-41abec83e4f4"
      },
      "outputs": [
        {
          "output_type": "stream",
          "name": "stdout",
          "text": [
            "Primeiras 50 palavras:  ['aaron' 'ab' 'aba' 'abal' 'abancado' 'abandonar' 'abandono' 'abastecer'\n",
            " 'abastecido' 'abastecimento' 'abatidas' 'abatimento' 'abc' 'abdalla'\n",
            " 'abdica' 'abel' 'abelha' 'abelhas' 'aberta' 'abertas' 'abertura' 'abnt'\n",
            " 'abo' 'abocanhados' 'abolida' 'aborda' 'abordada' 'abordado' 'abordam'\n",
            " 'abordar' 'abp' 'abr' 'abra' 'abrangem' 'abrangente' 'abre' 'abrem'\n",
            " 'abri' 'abria' 'abril' 'abrir' 'abriu' 'abrolhos' 'abrupta' 'absentia'\n",
            " 'absoluta' 'absolutas' 'absoluto' 'absor' 'absorver']\n"
          ]
        }
      ],
      "source": [
        "pre_processador = PreProcessador()\n",
        "\n",
        "lista_enunciados_tratados=[]\n",
        "for enunciado in dataset.enunciado:\n",
        "    enunciado_tratado = pre_processador.tratar_texto_linguagem_natural(enunciado)\n",
        "    lista_enunciados_tratados.append(enunciado_tratado)\n",
        "\n",
        "\n",
        "cou_vec=CountVectorizer(max_features=50000)\n",
        "sparce_matrix=cou_vec.fit_transform(lista_enunciados_tratados).toarray()\n",
        "all_words=cou_vec.get_feature_names_out()\n",
        "print(\"Primeiras 50 palavras: \",all_words[0:50])\n",
        "\n",
        "y = dataset.iloc[:,1].values\n",
        "x= sparce_matrix\n",
        "\n",
        "X_train, X_test, Y_train, Y_test = pre_processador.pre_processar(x, y)\n"
      ]
    },
    {
      "cell_type": "markdown",
      "metadata": {
        "id": "qsYTh5qqBXX5"
      },
      "source": [
        "### Treinar modelos nos algoritimos SVM, CART, KNN e Naives-Bayes"
      ]
    },
    {
      "cell_type": "code",
      "execution_count": null,
      "metadata": {
        "id": "YgV2jOZUBd_c"
      },
      "outputs": [],
      "source": [
        "modelo = Modelo()\n",
        "\n",
        "# Treinando os modelos e adicionando-os na lista de modelos\n",
        "modelos = []\n",
        "modelos.append(('KNN', modelo.treinar_KNN(X_train, Y_train)))\n",
        "modelos.append(('CART', modelo.treinar_CART(X_train, Y_train)))\n",
        "modelos.append(('NB', modelo.treinar_NB(X_train, Y_train)))\n",
        "modelos.append(('SVM', modelo.treinar_SVM(X_train, Y_train)))"
      ]
    },
    {
      "cell_type": "markdown",
      "metadata": {
        "id": "VesZPGIF-NFj"
      },
      "source": [
        "### Avaliar algoritmos treinados"
      ]
    },
    {
      "cell_type": "code",
      "execution_count": null,
      "metadata": {
        "colab": {
          "base_uri": "https://localhost:8080/"
        },
        "id": "El4Yd0ux-zp1",
        "outputId": "71774e43-9e15-47af-bb50-fc8d016f5e6a"
      },
      "outputs": [
        {
          "output_type": "stream",
          "name": "stdout",
          "text": [
            "KNN: 0.263333 (0.057224)\n",
            "CART: 0.540000 (0.147944)\n",
            "NB: 0.782857 (0.112591)\n",
            "SVM: 0.575714 (0.132317)\n"
          ]
        }
      ],
      "source": [
        "avaliador = Avaliador()\n",
        "\n",
        "resultados = []\n",
        "nomes_algoritmos = []\n",
        "\n",
        "# Avaliação dos modelos\n",
        "for v_nome, v_modelo in modelos:\n",
        "    cv_results = avaliador.avaliar_acuracia(v_modelo, X_test, Y_test)\n",
        "    resultados.append(cv_results)\n",
        "    nomes_algoritmos.append(v_nome)\n",
        "    msg = \"%s: %f (%f)\" % (v_nome, cv_results.mean(), cv_results.std())\n",
        "    print(msg)\n",
        "\n"
      ]
    },
    {
      "cell_type": "markdown",
      "metadata": {
        "id": "my2QskL2N0cR"
      },
      "source": [
        "###Comparação de Modelos"
      ]
    },
    {
      "cell_type": "code",
      "execution_count": null,
      "metadata": {
        "colab": {
          "base_uri": "https://localhost:8080/",
          "height": 930
        },
        "id": "ggQBS13zN-FV",
        "outputId": "f33a4c0e-914b-4163-d490-b4a3a4849ccd"
      },
      "outputs": [
        {
          "output_type": "display_data",
          "data": {
            "text/plain": [
              "<Figure size 1500x1000 with 1 Axes>"
            ],
            "image/png": "[encoded data removed]"
          },
          "metadata": {}
        }
      ],
      "source": [
        "visualizador = Visualizador()\n",
        "visualizador.comparacao_modelos(nomes_algoritmos, resultados)\n",
        "\n"
      ]
    },
    {
      "cell_type": "markdown",
      "metadata": {
        "id": "M5JA6yEQI2dA"
      },
      "source": [
        "###Criação e avaliação de modelos: dados padronizados e normalizados"
      ]
    },
    {
      "cell_type": "code",
      "execution_count": null,
      "metadata": {
        "colab": {
          "base_uri": "https://localhost:8080/",
          "height": 1000
        },
        "id": "n-yPiITXEYei",
        "outputId": "9c0ecba0-0ae7-4e6b-8fd4-d46bb1c8ce33"
      },
      "outputs": [
        {
          "output_type": "stream",
          "name": "stdout",
          "text": [
            "KNN-orig: 0.421 (0.036)\n",
            "CART-orig: 0.746 (0.065)\n",
            "NB-orig: 0.844 (0.042)\n",
            "SVM-orig: 0.784 (0.047)\n",
            "KNN-padr: 0.302 (0.108)\n",
            "CART-padr: 0.772 (0.072)\n",
            "NB-padr: 0.774 (0.048)\n",
            "SVM-padr: 0.565 (0.041)\n",
            "KNN-norm: 0.349 (0.065)\n",
            "CART-norm: 0.760 (0.059)\n",
            "NB-norm: 0.810 (0.037)\n",
            "SVM-norm: 0.509 (0.054)\n"
          ]
        },
        {
          "output_type": "display_data",
          "data": {
            "text/plain": [
              "<Figure size 1500x1000 with 1 Axes>"
            ],
            "image/png": "[encoded data removed]"
          },
          "metadata": {}
        }
      ],
      "source": [
        "np.random.seed(7) # definindo uma semente global para este bloco\n",
        "\n",
        "# Listas para armazenar os armazenar os pipelines e os resultados para todas as visões do dataset\n",
        "pipelines = []\n",
        "results = []\n",
        "names = []\n",
        "\n",
        "\n",
        "# Criando os elementos do pipeline\n",
        "\n",
        "# Algoritmos que serão utilizados\n",
        "knn = ('KNN', KNeighborsClassifier())\n",
        "cart = ('CART', DecisionTreeClassifier())\n",
        "naive_bayes = ('NB', GaussianNB())\n",
        "svm = ('SVM', SVC())\n",
        "\n",
        "# Transformações que serão utilizadas\n",
        "standard_scaler = ('StandardScaler', StandardScaler())\n",
        "min_max_scaler = ('MinMaxScaler', MinMaxScaler())\n",
        "\n",
        "# Montando os pipelines\n",
        "\n",
        "# Dataset original\n",
        "pipelines.append(('KNN-orig', Pipeline([knn])))\n",
        "pipelines.append(('CART-orig', Pipeline([cart])))\n",
        "pipelines.append(('NB-orig', Pipeline([naive_bayes])))\n",
        "pipelines.append(('SVM-orig', Pipeline([svm])))\n",
        "\n",
        "# Dataset Padronizado\n",
        "pipelines.append(('KNN-padr', Pipeline([standard_scaler, knn])))\n",
        "pipelines.append(('CART-padr', Pipeline([standard_scaler, cart])))\n",
        "pipelines.append(('NB-padr', Pipeline([standard_scaler, naive_bayes])))\n",
        "pipelines.append(('SVM-padr', Pipeline([standard_scaler, svm])))\n",
        "\n",
        "# Dataset Normalizado\n",
        "pipelines.append(('KNN-norm', Pipeline([min_max_scaler, knn])))\n",
        "pipelines.append(('CART-norm', Pipeline([min_max_scaler, cart])))\n",
        "pipelines.append(('NB-norm', Pipeline([min_max_scaler, naive_bayes])))\n",
        "pipelines.append(('SVM-norm', Pipeline([min_max_scaler, svm])))\n",
        "\n",
        "# Executando os pipelines\n",
        "for name, model in pipelines:\n",
        "    cv_results = avaliador.avaliar_acuracia(model, X_train, Y_train)\n",
        "    results.append(cv_results)\n",
        "    names.append(name)\n",
        "    msg = \"%s: %.3f (%.3f)\" % (name, cv_results.mean(), cv_results.std()) # formatando para 3 casas decimais\n",
        "    print(msg)\n",
        "\n",
        "# Boxplot de comparação dos modelos\n",
        "visualizador.comparacao_modelos(names, results)"
      ]
    },
    {
      "cell_type": "markdown",
      "metadata": {
        "id": "cg6pG0q7Jniv"
      },
      "source": [
        "###Otimização dos hiperparâmetros"
      ]
    },
    {
      "cell_type": "code",
      "execution_count": null,
      "metadata": {
        "colab": {
          "base_uri": "https://localhost:8080/"
        },
        "id": "PrdOPvMSJpa_",
        "outputId": "80b2417d-6c6f-4dcd-a121-103189178b20"
      },
      "outputs": [
        {
          "output_type": "stream",
          "name": "stdout",
          "text": [
            "Sem tratamento de missings: nb-orig - Melhor: 0.843648 usando {'nb__priors': None, 'nb__var_smoothing': 1e-08}\n",
            "Sem tratamento de missings: nb-padr - Melhor: 0.773926 usando {'nb__priors': None, 'nb__var_smoothing': 1e-08}\n",
            "Sem tratamento de missings: nb-norm - Melhor: 0.810436 usando {'nb__priors': None, 'nb__var_smoothing': 1e-08}\n"
          ]
        }
      ],
      "source": [
        "# Tuning\n",
        "np.random.seed(7) # definindo uma semente global para este bloco\n",
        "pipelines = []\n",
        "\n",
        "# Definindo os componentes do pipeline\n",
        "nb = ('nb', GaussianNB())\n",
        "#svm = ('svm', SVC())\n",
        "standard_scaler = ('StandardScaler', StandardScaler())\n",
        "min_max_scaler = ('MinMaxScaler', MinMaxScaler())\n",
        "\n",
        "#pipelines.append(('svm-orig', Pipeline(steps=[svm])))\n",
        "#pipelines.append(('svm-padr', Pipeline(steps=[standard_scaler, svm])))\n",
        "#pipelines.append(('svm-norm', Pipeline(steps=[min_max_scaler, svm])))\n",
        "pipelines.append(('nb-orig', Pipeline(steps=[nb])))\n",
        "pipelines.append(('nb-padr', Pipeline(steps=[standard_scaler, nb])))\n",
        "pipelines.append(('nb-norm', Pipeline(steps=[min_max_scaler, nb])))\n",
        "\n",
        "#svm_param_grid = {'svm__C':[1,10,100,1000],'svm__gamma':[1,0.1,0.001,0.0001], 'svm__kernel':['linear','rbf']}\n",
        "nb_param_grid = {'nb__priors': [None], 'nb__var_smoothing': [0.00000001, 0.000000001, 0.00000001]}\n",
        "param_grid = nb_param_grid\n",
        "\n",
        "\n",
        "# Prepara e executa o GridSearchCV\n",
        "for name, model in pipelines:\n",
        "    grid = GridSearchCV(estimator=model, param_grid=param_grid, cv=StratifiedKFold(n_splits=10, shuffle=True, random_state=7), scoring='accuracy')\n",
        "    grid.fit(X_train, Y_train)\n",
        "    # imprime a melhor configuração\n",
        "    print(\"Sem tratamento de missings: %s - Melhor: %f usando %s\" % (name, grid.best_score_, grid.best_params_))"
      ]
    },
    {
      "cell_type": "markdown",
      "metadata": {
        "id": "Y0Gd7zVoOU1g"
      },
      "source": [
        "### Finalização do Modelo"
      ]
    },
    {
      "cell_type": "code",
      "execution_count": null,
      "metadata": {
        "colab": {
          "base_uri": "https://localhost:8080/"
        },
        "id": "2VBTuzaELnCN",
        "outputId": "8bd71cfd-586c-4cf5-9f45-f187d5df0234"
      },
      "outputs": [
        {
          "output_type": "stream",
          "name": "stdout",
          "text": [
            "0.8194444444444444\n"
          ]
        }
      ],
      "source": [
        "# Avaliação do modelo com o conjunto de testes\n",
        "\n",
        "# Preparação do modelo\n",
        "scaler = StandardScaler().fit(X_train) # ajuste do scaler com o conjunto de treino\n",
        "rescaledX = scaler.transform(X_train) # aplicação da padronização no conjunto de treino\n",
        "#modeloFinal = SVC(C=10, gamma=0.001, kernel='rbf')\n",
        "modeloFinal = GaussianNB(priors=None, var_smoothing=1e-08)\n",
        "modeloFinal.fit(rescaledX, Y_train)\n",
        "# Estimativa da acurácia no conjunto de teste\n",
        "rescaledTestX = scaler.transform(X_test) # aplicação da padronização no conjunto de teste\n",
        "predictions = modeloFinal.predict(rescaledTestX)\n",
        "print(accuracy_score(Y_test, predictions))"
      ]
    },
    {
      "cell_type": "code",
      "execution_count": null,
      "metadata": {
        "colab": {
          "base_uri": "https://localhost:8080/",
          "height": 126
        },
        "id": "ZLg3WORiQdQ7",
        "outputId": "9c25a654-b51f-4990-e046-109ba8ba96af"
      },
      "outputs": [
        {
          "output_type": "execute_result",
          "data": {
            "text/plain": [
              "Pipeline(steps=[('MinMaxScaler', MinMaxScaler()), ('nb', GaussianNB())])"
            ],
            "text/html": [
              "<style>#sk-container-id-13 {color: black;background-color: white;}#sk-container-id-13 pre{padding: 0;}#sk-container-id-13 div.sk-toggleable {background-color: white;}#sk-container-id-13 label.sk-toggleable__label {cursor: pointer;display: block;width: 100%;margin-bottom: 0;padding: 0.3em;box-sizing: border-box;text-align: center;}#sk-container-id-13 label.sk-toggleable__label-arrow:before {content: \"▸\";float: left;margin-right: 0.25em;color: #696969;}#sk-container-id-13 label.sk-toggleable__label-arrow:hover:before {color: black;}#sk-container-id-13 div.sk-estimator:hover label.sk-toggleable__label-arrow:before {color: black;}#sk-container-id-13 div.sk-toggleable__content {max-height: 0;max-width: 0;overflow: hidden;text-align: left;background-color: #f0f8ff;}#sk-container-id-13 div.sk-toggleable__content pre {margin: 0.2em;color: black;border-radius: 0.25em;background-color: #f0f8ff;}#sk-container-id-13 input.sk-toggleable__control:checked~div.sk-toggleable__content {max-height: 200px;max-width: 100%;overflow: auto;}#sk-container-id-13 input.sk-toggleable__control:checked~label.sk-toggleable__label-arrow:before {content: \"▾\";}#sk-container-id-13 div.sk-estimator input.sk-toggleable__control:checked~label.sk-toggleable__label {background-color: #d4ebff;}#sk-container-id-13 div.sk-label input.sk-toggleable__control:checked~label.sk-toggleable__label {background-color: #d4ebff;}#sk-container-id-13 input.sk-hidden--visually {border: 0;clip: rect(1px 1px 1px 1px);clip: rect(1px, 1px, 1px, 1px);height: 1px;margin: -1px;overflow: hidden;padding: 0;position: absolute;width: 1px;}#sk-container-id-13 div.sk-estimator {font-family: monospace;background-color: #f0f8ff;border: 1px dotted black;border-radius: 0.25em;box-sizing: border-box;margin-bottom: 0.5em;}#sk-container-id-13 div.sk-estimator:hover {background-color: #d4ebff;}#sk-container-id-13 div.sk-parallel-item::after {content: \"\";width: 100%;border-bottom: 1px solid gray;flex-grow: 1;}#sk-container-id-13 div.sk-label:hover label.sk-toggleable__label {background-color: #d4ebff;}#sk-container-id-13 div.sk-serial::before {content: \"\";position: absolute;border-left: 1px solid gray;box-sizing: border-box;top: 0;bottom: 0;left: 50%;z-index: 0;}#sk-container-id-13 div.sk-serial {display: flex;flex-direction: column;align-items: center;background-color: white;padding-right: 0.2em;padding-left: 0.2em;position: relative;}#sk-container-id-13 div.sk-item {position: relative;z-index: 1;}#sk-container-id-13 div.sk-parallel {display: flex;align-items: stretch;justify-content: center;background-color: white;position: relative;}#sk-container-id-13 div.sk-item::before, #sk-container-id-13 div.sk-parallel-item::before {content: \"\";position: absolute;border-left: 1px solid gray;box-sizing: border-box;top: 0;bottom: 0;left: 50%;z-index: -1;}#sk-container-id-13 div.sk-parallel-item {display: flex;flex-direction: column;z-index: 1;position: relative;background-color: white;}#sk-container-id-13 div.sk-parallel-item:first-child::after {align-self: flex-end;width: 50%;}#sk-container-id-13 div.sk-parallel-item:last-child::after {align-self: flex-start;width: 50%;}#sk-container-id-13 div.sk-parallel-item:only-child::after {width: 0;}#sk-container-id-13 div.sk-dashed-wrapped {border: 1px dashed gray;margin: 0 0.4em 0.5em 0.4em;box-sizing: border-box;padding-bottom: 0.4em;background-color: white;}#sk-container-id-13 div.sk-label label {font-family: monospace;font-weight: bold;display: inline-block;line-height: 1.2em;}#sk-container-id-13 div.sk-label-container {text-align: center;}#sk-container-id-13 div.sk-container {/* jupyter's `normalize.less` sets `[hidden] { display: none; }` but bootstrap.min.css set `[hidden] { display: none !important; }` so we also need the `!important` here to be able to override the default hidden behavior on the sphinx rendered scikit-learn.org. See: https://github.com/scikit-learn/scikit-learn/issues/21755 */display: inline-block !important;position: relative;}#sk-container-id-13 div.sk-text-repr-fallback {display: none;}</style><div id=\"sk-container-id-13\" class=\"sk-top-container\"><div class=\"sk-text-repr-fallback\"><pre>Pipeline(steps=[(&#x27;MinMaxScaler&#x27;, MinMaxScaler()), (&#x27;nb&#x27;, GaussianNB())])</pre><b>In a Jupyter environment, please rerun this cell to show the HTML representation or trust the notebook. <br />On GitHub, the HTML representation is unable to render, please try loading this page with nbviewer.org.</b></div><div class=\"sk-container\" hidden><div class=\"sk-item sk-dashed-wrapped\"><div class=\"sk-label-container\"><div class=\"sk-label sk-toggleable\"><input class=\"sk-toggleable__control sk-hidden--visually\" id=\"sk-estimator-id-37\" type=\"checkbox\" ><label for=\"sk-estimator-id-37\" class=\"sk-toggleable__label sk-toggleable__label-arrow\">Pipeline</label><div class=\"sk-toggleable__content\"><pre>Pipeline(steps=[(&#x27;MinMaxScaler&#x27;, MinMaxScaler()), (&#x27;nb&#x27;, GaussianNB())])</pre></div></div></div><div class=\"sk-serial\"><div class=\"sk-item\"><div class=\"sk-estimator sk-toggleable\"><input class=\"sk-toggleable__control sk-hidden--visually\" id=\"sk-estimator-id-38\" type=\"checkbox\" ><label for=\"sk-estimator-id-38\" class=\"sk-toggleable__label sk-toggleable__label-arrow\">MinMaxScaler</label><div class=\"sk-toggleable__content\"><pre>MinMaxScaler()</pre></div></div></div><div class=\"sk-item\"><div class=\"sk-estimator sk-toggleable\"><input class=\"sk-toggleable__control sk-hidden--visually\" id=\"sk-estimator-id-39\" type=\"checkbox\" ><label for=\"sk-estimator-id-39\" class=\"sk-toggleable__label sk-toggleable__label-arrow\">GaussianNB</label><div class=\"sk-toggleable__content\"><pre>GaussianNB()</pre></div></div></div></div></div></div></div>"
            ]
          },
          "metadata": {},
          "execution_count": 310
        }
      ],
      "source": [
        "# Preparação do modelo com TODO o dataset\n",
        "scaler = StandardScaler().fit(x) # ajuste do scaler com TODO o dataset\n",
        "rescaledX = scaler.transform(x) # aplicação da padronização com TODO o dataset\n",
        "model.fit(rescaledX, y)"
      ]
    },
    {
      "cell_type": "markdown",
      "metadata": {
        "id": "xZ-FQWZj_OtQ"
      },
      "source": [
        "## Simulando a aplicação do modelo em dados não vistos"
      ]
    },
    {
      "cell_type": "code",
      "execution_count": null,
      "metadata": {
        "colab": {
          "base_uri": "https://localhost:8080/"
        },
        "id": "nmRDcjSCRZKu",
        "outputId": "34b5cbda-97b4-464f-cf37-533cf1baf7f7"
      },
      "outputs": [
        {
          "output_type": "stream",
          "name": "stdout",
          "text": [
            "[[-0.03731967 -0.06472978 -0.05999804 ... -0.07093765 -0.03731967\n",
            "  -0.03731967]\n",
            " [-0.03731967 -0.06472978 -0.05999804 ... -0.07093765 -0.03731967\n",
            "  -0.03731967]\n",
            " [-0.03731967 -0.06472978 -0.05999804 ... -0.07093765 -0.03731967\n",
            "  -0.03731967]\n",
            " ...\n",
            " [-0.03731967 -0.06472978 -0.05999804 ... -0.07093765 -0.03731967\n",
            "  -0.03731967]\n",
            " [-0.03731967 -0.06472978 -0.05999804 ... -0.07093765 -0.03731967\n",
            "  -0.03731967]\n",
            " [-0.03731967 -0.06472978 -0.05999804 ... -0.07093765 -0.03731967\n",
            "  -0.03731967]]\n"
          ]
        }
      ],
      "source": [
        "#Novos dados - não sabemos a disciplina!\n",
        "\n",
        "novo_dados = [\n",
        "  #INFORMATICA\n",
        "  pre_processador.tratar_texto_linguagem_natural(\"Acerca dos conceitos, das formas de uso e das ferramentas do ambiente Windows, julgue o item que se segue. O Explorador de Arquivos é a ferramenta do Windows utilizada para a navegação em arquivos da Internet.\"),\n",
        "  pre_processador.tratar_texto_linguagem_natural(\"João resolveu organizar os seus arquivos através do explorador de arquivos do Windows. Ele acessou um determinado diretório de arquivos, selecionando os que gostaria de mover para a pasta “Imagens”. Dessa forma, foi capaz de agrupar os arquivos de imagem em um único local, facilitando, assim, o acesso e a organização. Qual é o procedimento correto para selecionar aleatoriamente arquivos em um diretório usando o explorador de arquivos?\"),\n",
        "  pre_processador.tratar_texto_linguagem_natural(\"A realização de backup no Sistema Operacional Windows é uma prática fundamental para proteger dados e garantir a recuperação de informações em caso de falhas. Esses procedimentos de backup permitem\"),\n",
        "  #PORTUGUES\n",
        "  pre_processador.tratar_texto_linguagem_natural(\"Caminhando contra o vento, Sem lenço e sem documento No sol de quase dezembro Eu vou O sol se reparte em crimes Espaçonaves, guerrilhas Em cardinales bonitas Eu vou Em caras de presidentes Em grandes beijos de amor Em dentes, pernas, bandeiras Bombas e Brigitte Bardot O sol nas bancas de revista Me enche de alegria e preguiça Quem lê tanta noticia Eu vou VELOSO, C. Alegria, alegria In Caetano Veloso. São Paulo. Philips. 1967 (fragmento). É comum coexistirem sequências tipológicas em um mesmo gênero textual. Nesse fragmento, os tipos textuais que se destacam na organização temática são\"),\n",
        "  pre_processador.tratar_texto_linguagem_natural(\"Leia: “Como, minha senhora? A senhora não acredita que Vinicius seja uma porção? Azar o seu, dona. Um dia ainda se fará um programa de televisão com Vinicius ao violão, acompanhando outro Vinicius que canta, junto com um quarteto vocal de Vinicius. Sem videoteipe.” (10º§) As expressões em destaque, sintaticamente, podem ser classificadas como:\"),\n",
        "  #MATEMATICA\n",
        "  pre_processador.tratar_texto_linguagem_natural(\"O gráfico apresenta a evolução do crescimento de uma determinada árvore, plantada a partir de uma muda com 1 metro de altura. Nessa evolução, a altura da árvore, em metro, é descrita em função do tempo, medido em ano. Imagem associada para resolução da questão No período de 1 ano, contado a partir do instante em que a árvore tinha dois anos e meio de plantio, a variação da altura dessa árvore, em metro, teve valor compreendido entre\"),\n",
        "  pre_processador.tratar_texto_linguagem_natural(\"Sobre um grupo de atletas sabe-se que 15 praticam natação, atletismo e ciclismo, 20 praticam somente natação e atletismo, 27 praticam somente natação e ciclismo, e 25 praticam somente atletismo e ciclismo. Se 70 atletas desse grupo praticam natação, 61 praticam atletismo, e 75 praticam ciclismo, então é verdade que, das alternativas a seguir, a que contém a porcentagem que mais se aproxima da relação entre o número de atletas que praticam um único esporte o número total de atletas desse grupo é\"),\n",
        "  #DIREITO\n",
        "  pre_processador.tratar_texto_linguagem_natural(\"Conforme preconizado pelos princípios constitucionais, a atuação dos servidores públicos deve ser pautada pela conduta moral e ética, sendo vedado qualquer tipo de discriminação por sexo, raça, cor, idade ou qualquer outra forma discriminatória. O atendimento ao cidadão deve ser realizado de forma humanizada. A ação do servidor público deve ocorrer de forma igualitária, com dignidade e respeito. Assinale a alternativa que relaciona corretamente dois dos princípios constitucionais que embasam as afirmações anteriores.\"),\n",
        "  pre_processador.tratar_texto_linguagem_natural(\"A Constituição Federal prevê como funções essenciais à administração da Justiça o Ministério Público, a Advocacia pública e privada, estabelecendo que\"),\n",
        "  #BIOLOGIA\n",
        "  pre_processador.tratar_texto_linguagem_natural(\"No ciclo celular atuam moléculas reguladoras. Dentre elas, a proteína p53 é ativada em resposta a mutações no DNA, evitando a progressão do ciclo até que os danos sejam reparados, ou induzindo a célula à auto destruição. A ausência dessa proteína poderá favorecer a:\"),\n",
        "  pre_processador.tratar_texto_linguagem_natural(\"O tipo de reprodução assexuada que se caracteriza pela ocorrência de várias divisões do núcleo celular sem que haja divisão imediata do citoplasma, é denominada de\")\n",
        "]\n",
        "\n",
        "cou_vec_test  = CountVectorizer(vocabulary=all_words)\n",
        "X_novos_dados = cou_vec_test.fit_transform(novo_dados)\n",
        "\n",
        "\n",
        "entrada = pd.DataFrame(X_novos_dados.toarray(), columns=all_words)\n",
        "\n",
        "array_entrada = entrada.values\n",
        "X_entrada = array_entrada[:,0:50000].astype(float)\n",
        "\n",
        "# Padronização nos dados de entrada usando o scaler utilizado em X\n",
        "rescaledEntradaX = scaler.transform(X_entrada)\n",
        "print(rescaledEntradaX)\n"
      ]
    },
    {
      "cell_type": "code",
      "execution_count": null,
      "metadata": {
        "colab": {
          "base_uri": "https://localhost:8080/"
        },
        "id": "3-TS_FCL0HAp",
        "outputId": "bee51ba2-77ba-4070-90ea-66eb03768d09"
      },
      "outputs": [
        {
          "output_type": "stream",
          "name": "stdout",
          "text": [
            "Resultado:\n",
            "Resultado: INFORMATICA - Esperado: INFORMATICA\n",
            "Resultado: INFORMATICA - Esperado: INFORMATICA\n",
            "Resultado: BIOLOGIA - Esperado: INFORMATICA\n",
            "Resultado: PORTUGUES - Esperado: PORTUGUES\n",
            "Resultado: PORTUGUES - Esperado: PORTUGUES\n",
            "Resultado: MATEMATICA - Esperado: MATEMATICA\n",
            "Resultado: PORTUGUES - Esperado: MATEMATICA\n",
            "Resultado: DIREITO - Esperado: DIREITO\n",
            "Resultado: PORTUGUES - Esperado: DIREITO\n",
            "Resultado: BIOLOGIA - Esperado: BIOLOGIA\n",
            "Resultado: PORTUGUES - Esperado: BIOLOGIA\n"
          ]
        }
      ],
      "source": [
        "saidas = model.predict(rescaledEntradaX)\n",
        "esperados = [\"INFORMATICA\", \"INFORMATICA\", \"INFORMATICA\", \"PORTUGUES\", \"PORTUGUES\", \"MATEMATICA\", \"MATEMATICA\", \"DIREITO\", \"DIREITO\", \"BIOLOGIA\", \"BIOLOGIA\"]\n",
        "print(\"Resultado:\")\n",
        "\n",
        "contador = 0\n",
        "for saida in saidas:\n",
        "    print(\"Resultado: \"+saida + \" - Esperado: \" + esperados[contador])\n",
        "    contador += 1\n"
      ]
    },
    {
      "cell_type": "markdown",
      "source": [
        "#Conclusão\n",
        "\n",
        "Dos 11 novos enunciados que foi avaliado, o sistema errou 4 sendo que desses 3 foram classificados com a disciplina Português, vendo a necessidade de tratar melhor os dados dessa displina visto os enunicados são textos longos de diversos assuntos."
      ],
      "metadata": {
        "id": "GyLihyQz6Rrg"
      }
    }
  ],
  "metadata": {
    "colab": {
      "provenance": []
    },
    "kernelspec": {
      "display_name": "Python 3",
      "name": "python3"
    }
  },
  "nbformat": 4,
  "nbformat_minor": 0
}